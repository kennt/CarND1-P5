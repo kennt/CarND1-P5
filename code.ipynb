{
 "cells": [
  {
   "cell_type": "markdown",
   "metadata": {
    "deletable": true,
    "editable": true
   },
   "source": [
    "## 1. Initialization/Preliminaries"
   ]
  },
  {
   "cell_type": "code",
   "execution_count": 1,
   "metadata": {
    "collapsed": true,
    "deletable": true,
    "editable": true
   },
   "outputs": [],
   "source": [
    "import matplotlib.image as mpimg\n",
    "import matplotlib.pyplot as plt\n",
    "import numpy as np\n",
    "import cv2\n",
    "import glob\n",
    "import time\n",
    "import collections\n",
    "from sklearn.svm import LinearSVC\n",
    "from sklearn.preprocessing import StandardScaler\n",
    "from skimage.feature import hog\n",
    "import sklearn.svm as svm\n",
    "from sklearn.model_selection import GridSearchCV\n",
    "from scipy.ndimage.measurements import label\n",
    "\n",
    "\n",
    "from moviepy.editor import VideoFileClip\n",
    "from IPython.display import HTML\n",
    "\n",
    "%matplotlib inline\n",
    "\n",
    "# NOTE: the next import is only valid for scikit-learn version <= 0.17\n",
    "# for scikit-learn >= 0.18 use:\n",
    "from sklearn.model_selection import train_test_split\n",
    "#from sklearn.cross_validation import train_test_split\n"
   ]
  },
  {
   "cell_type": "markdown",
   "metadata": {
    "deletable": true,
    "editable": true
   },
   "source": [
    "## 2. Parameters"
   ]
  },
  {
   "cell_type": "code",
   "execution_count": 2,
   "metadata": {
    "collapsed": true,
    "deletable": true,
    "editable": true
   },
   "outputs": [],
   "source": [
    "features_params = {\n",
    "    'color_space' : 'YCrCb',    # Can be RGB, HSV, LUV, HLS, YUV, YCrCb\n",
    "    'spatial_size' : (16, 16),  # Spatial binning dimensions\n",
    "    'hist_bins' : 32,           # Number of histogram bins\n",
    "    'orient' : 11,              # HOG orientations\n",
    "    'pix_per_cell' : 16,        # HOG pixels per cell\n",
    "    'cell_per_block' : 2,       # HOG cells per block\n",
    "    'hog_channel' : 'ALL',      # Can be 0, 1, 2, or 'ALL'\n",
    "    'spatial_feat' : True,      # Spatial features on or off\n",
    "    'hist_feat' : True,         # Histogram features on or off\n",
    "    'hog_feat' : True,          # HOG features on or off\n",
    "}\n",
    "\n",
    "y_start_stop = (400, None)"
   ]
  },
  {
   "cell_type": "markdown",
   "metadata": {
    "deletable": true,
    "editable": true
   },
   "source": [
    "## 3. Utility functions\n",
    "\n",
    "Miscelleous functions (mostly graphics oriented)."
   ]
  },
  {
   "cell_type": "code",
   "execution_count": 3,
   "metadata": {
    "collapsed": true,
    "deletable": true,
    "editable": true
   },
   "outputs": [],
   "source": [
    "\n",
    "color_map = { ('RGB', 'HSV') : cv2.COLOR_RGB2HSV,\n",
    "              ('RGB', 'LUV') : cv2.COLOR_RGB2LUV,\n",
    "              ('RGB', 'HLS') : cv2.COLOR_RGB2HLS,\n",
    "              ('RGB', 'YUV') : cv2.COLOR_RGB2YUV,\n",
    "              ('RGB', 'YCrCb') : cv2.COLOR_RGB2YCrCb,\n",
    "              ('RGB', 'BGR') : cv2.COLOR_RGB2BGR,\n",
    "              ('RGB', 'LAB') : cv2.COLOR_RGB2LAB,\n",
    "             \n",
    "              ('BGR', 'HSV') : cv2.COLOR_BGR2HSV,\n",
    "              ('BGR', 'LUV') : cv2.COLOR_BGR2LUV,\n",
    "              ('BGR', 'HLS') : cv2.COLOR_BGR2HLS,\n",
    "              ('BGR', 'YUV') : cv2.COLOR_BGR2YUV,\n",
    "              ('BGR', 'YCrCb') : cv2.COLOR_BGR2YCrCb,\n",
    "              ('BGR', 'RGB') : cv2.COLOR_BGR2RGB,\n",
    "              ('BGR', 'LAB') : cv2.COLOR_BGR2LAB,\n",
    "            }\n",
    "\n",
    "def convert_colorspace(image, source_color, dest_color):\n",
    "    \"\"\"\n",
    "    Converts the image from one color space to another (creates a new image)\n",
    "    If the source color and dest color are the same, the image is just copied.\n",
    "    \"\"\"\n",
    "    if source_color == dest_color:\n",
    "        return np.copy(image)\n",
    "    return cv2.cvtColor(image, color_map[(source_color, dest_color)])\n",
    "\n",
    "\n",
    "# Define a function to draw bounding boxes\n",
    "def draw_boxes(img, bboxes, color=(0, 0, 255), thick=8):\n",
    "    # Make a copy of the image\n",
    "    #imcopy = np.copy(img)\n",
    "    # Iterate through the bounding boxes\n",
    "    for bbox in bboxes:\n",
    "        # Draw a rectangle given bbox coordinates\n",
    "        cv2.rectangle(img, bbox[0], bbox[1], color, thick)\n",
    "    # Return the image copy with boxes drawn\n",
    "    return img\n",
    "\n",
    "\n",
    "def draw_labeled_bboxes(img, labels):\n",
    "    # Iterate through all detected cars\n",
    "    for car_number in range(1, labels[1]+1):\n",
    "        # Find pixels with each car_number label value\n",
    "        nonzero = (labels[0] == car_number).nonzero()\n",
    "        # Identify x and y values of those pixels\n",
    "        nonzeroy = np.array(nonzero[0])\n",
    "        nonzerox = np.array(nonzero[1])\n",
    "        # Define a bounding box based on min/max x and y\n",
    "        bbox = ((np.min(nonzerox), np.min(nonzeroy)), (np.max(nonzerox), np.max(nonzeroy)))\n",
    "        # Draw the box on the image\n",
    "        cv2.rectangle(img, bbox[0], bbox[1], (0,255,0), 6)\n",
    "    # Return the image\n",
    "    return img\n",
    "\n",
    "\n"
   ]
  },
  {
   "cell_type": "markdown",
   "metadata": {
    "deletable": true,
    "editable": true
   },
   "source": [
    "## 4. Feature extraction"
   ]
  },
  {
   "cell_type": "code",
   "execution_count": 4,
   "metadata": {
    "collapsed": true,
    "deletable": true,
    "editable": true
   },
   "outputs": [],
   "source": [
    "# Define a function to return HOG features and visualization\n",
    "def get_hog_features(img, orient, pix_per_cell, cell_per_block, \n",
    "                        vis=False, feature_vec=True):\n",
    "    # Call with two outputs if vis==True\n",
    "    if vis == True:\n",
    "        features, hog_image = hog(img, orientations=orient, \n",
    "                                  pixels_per_cell=(pix_per_cell, pix_per_cell),\n",
    "                                  cells_per_block=(cell_per_block, cell_per_block), \n",
    "                                  transform_sqrt=False, \n",
    "                                  visualise=vis, feature_vector=feature_vec)\n",
    "        return features, hog_image\n",
    "    # Otherwise call with one output\n",
    "    else:      \n",
    "        features = hog(img, orientations=orient, \n",
    "                       pixels_per_cell=(pix_per_cell, pix_per_cell),\n",
    "                       cells_per_block=(cell_per_block, cell_per_block), \n",
    "                       transform_sqrt=False, \n",
    "                       visualise=vis, feature_vector=feature_vec)\n",
    "        return features\n",
    "\n",
    "# Define a function to compute binned color features  \n",
    "def bin_spatial(img, size=(32, 32)):\n",
    "    # Use cv2.resize().ravel() to create the feature vector\n",
    "    features = cv2.resize(img, size).ravel() \n",
    "    # Return the feature vector\n",
    "    return features\n",
    "\n",
    "# Define a function to compute color histogram features \n",
    "# NEED TO CHANGE bins_range if reading .png files with mpimg!\n",
    "def color_hist(img, nbins=32, bins_range=(0, 256)):\n",
    "    # Compute the histogram of the color channels separately\n",
    "    channel1_hist = np.histogram(img[:,:,0], bins=nbins, range=bins_range)\n",
    "    channel2_hist = np.histogram(img[:,:,1], bins=nbins, range=bins_range)\n",
    "    channel3_hist = np.histogram(img[:,:,2], bins=nbins, range=bins_range)\n",
    "    # Concatenate the histograms into a single feature vector\n",
    "    hist_features = np.concatenate((channel1_hist[0], channel2_hist[0], channel3_hist[0]))\n",
    "    # Return the individual histograms, bin_centers and feature vector\n",
    "    return hist_features\n",
    "\n",
    "# Define a function to extract features from a list of images\n",
    "def extract_features(imgs, color_space='RGB',\n",
    "                     spatial_size=(32, 32),\n",
    "                     hist_bins=32,\n",
    "                     orient=9, pix_per_cell=8, cell_per_block=2, hog_channel=0,\n",
    "                     spatial_feat=True, hist_feat=True, hog_feat=True):\n",
    "    # Create a list to append feature vectors to\n",
    "    features = []\n",
    "    # Iterate through the list of images\n",
    "    for file in imgs:\n",
    "        file_features = []\n",
    "        # Read in each one by one\n",
    "        image = mpimg.imread(file)\n",
    "\n",
    "        # Image assumed to be RGB since we're reading a PNG from mpimg\n",
    "        feature_image = convert_colorspace(image, 'RGB', color_space)\n",
    "\n",
    "        if spatial_feat == True:\n",
    "            spatial_features = bin_spatial(feature_image, size=spatial_size)\n",
    "            file_features.append(spatial_features)\n",
    "        if hist_feat == True:\n",
    "            # Apply color_hist()\n",
    "            hist_features = color_hist(feature_image, nbins=hist_bins)\n",
    "            file_features.append(hist_features)\n",
    "        if hog_feat == True:\n",
    "        # Call get_hog_features() with vis=False, feature_vec=True\n",
    "            if hog_channel == 'ALL':\n",
    "                hog_features = []\n",
    "                for channel in range(feature_image.shape[2]):\n",
    "                    hog_features.append(get_hog_features(feature_image[:,:,channel], \n",
    "                                        orient, pix_per_cell, cell_per_block, \n",
    "                                        vis=False, feature_vec=True))\n",
    "                hog_features = np.ravel(hog_features)        \n",
    "            else:\n",
    "                hog_features = get_hog_features(feature_image[:,:,hog_channel], orient, \n",
    "                            pix_per_cell, cell_per_block, vis=False, feature_vec=True)\n",
    "            # Append the new feature vector to the features list\n",
    "            file_features.append(hog_features)\n",
    "        features.append(np.concatenate(file_features))\n",
    "    # Return list of feature vectors\n",
    "    return features\n",
    "    "
   ]
  },
  {
   "cell_type": "markdown",
   "metadata": {
    "deletable": true,
    "editable": true
   },
   "source": [
    "## 5. Training"
   ]
  },
  {
   "cell_type": "code",
   "execution_count": 5,
   "metadata": {
    "collapsed": true,
    "deletable": true,
    "editable": true
   },
   "outputs": [],
   "source": [
    "def train_svc(color_space='RGB', \n",
    "              spatial_size=(32, 32),\n",
    "              hist_bins=32, hist_range=(0, 256),\n",
    "              orient=9, pix_per_cell=8, cell_per_block=2, hog_channel=0,\n",
    "              spatial_feat=True, hist_feat=True, hog_feat=True):\n",
    "\n",
    "    cars = []\n",
    "    notcars = []\n",
    "\n",
    "    cars_directory = '/Users/kennt/classes/udacity/P5/vehicles/*/*.png'\n",
    "    nocars_directory = '/Users/kennt/classes/udacity/P5/non-vehicles/*/*.png'\n",
    "\n",
    "    #cars_directory = '/Users/kennt/classes/udacity/small/vehicles_smallset/*/*.jpeg'\n",
    "    #nocars_directory = '/Users/kennt/classes/udacity/small/non-vehicles_smallset/*/*.jpeg'\n",
    "\n",
    "    for image in glob.iglob(cars_directory):\n",
    "        cars.append(image)\n",
    "    for image in glob.iglob(nocars_directory):\n",
    "        notcars.append(image)\n",
    "\n",
    "    print(\"Found \", len(cars), \" vehicle images\")\n",
    "    print(\"Found \", len(notcars), \" non-vehicle images\")\n",
    "\n",
    "    # shuffle the list of cars\n",
    "    np.random.shuffle(cars)\n",
    "    np.random.shuffle(notcars)\n",
    "\n",
    "    cars = cars[0:len(cars)//3]\n",
    "    notcars = notcars[0:len(notcars)//3]\n",
    "\n",
    "\n",
    "    ### TODO: Tweak these parameters and see how the results change.\n",
    "    #color_space = 'YCrCb' # Can be RGB, HSV, LUV, HLS, YUV, YCrCb\n",
    "    #orient = 9  # HOG orientations\n",
    "    #pix_per_cell = 16 # HOG pixels per cell\n",
    "    #cell_per_block = 2 # HOG cells per block\n",
    "    #hog_channel = 'ALL' # Can be 0, 1, 2, or \"ALL\"\n",
    "    #spatial_size = (16, 16) # Spatial binning dimensions\n",
    "    #hist_bins = 8    # Number of histogram bins\n",
    "    #spatial_feat = True # Spatial features on or off\n",
    "    #hist_feat = True # Histogram features on or off\n",
    "    #hog_feat = True # HOG features on or off\n",
    "    y_start_stop = [400, None] # Min and max in y to search in slide_window()\n",
    "\n",
    "    car_features = extract_features(cars, **features_params)\n",
    "    notcar_features = extract_features(notcars, **features_params)\n",
    "\n",
    "    X = np.vstack((car_features, notcar_features)).astype(np.float64)                        \n",
    "    # Fit a per-column scaler\n",
    "    X_scaler = StandardScaler().fit(X)\n",
    "    # Apply the scaler to X\n",
    "    scaled_X = X_scaler.transform(X)\n",
    "\n",
    "    # Define the labels vector\n",
    "    y = np.hstack((np.ones(len(car_features)), np.zeros(len(notcar_features))))\n",
    "\n",
    "    # Split up data into randomized training and test sets\n",
    "    rand_state = np.random.randint(0, 100)\n",
    "    X_train, X_test, y_train, y_test = train_test_split(\n",
    "        scaled_X, y, test_size=0.2, random_state=rand_state)\n",
    "\n",
    "    print('Training set size: ', len(X_train))\n",
    "    print('Test set size: ', len(X_test))\n",
    "\n",
    "    print('Using:',orient,'orientations',pix_per_cell,\n",
    "        'pixels per cell and', cell_per_block,'cells per block')\n",
    "    print('Feature vector length:', len(X_train[0]))\n",
    "\n",
    "    t=time.time()\n",
    "\n",
    "    C_range = [0.5, 1, 1.5, 2, 3, 4, 5]\n",
    "    param_grid = dict(C=C_range)\n",
    "    svc = GridSearchCV(svm.SVC(), param_grid, verbose=1)\n",
    "    svc.fit(X_train, y_train)\n",
    "    print(svc.best_params_)\n",
    "    print(svc.best_score_)\n",
    "\n",
    "    # Use a linear SVC\n",
    "    #svc = LinearSVC(C=2)\n",
    "    #svc.fit(X_train, y_train)\n",
    "    t2 = time.time()\n",
    "    print(round(t2-t, 2), 'Seconds to train SVC...')\n",
    "    # Check the score of the SVC\n",
    "    print('Test Accuracy of SVC = ', round(svc.score(X_test, y_test), 4))\n",
    "    return svc, X_scaler\n",
    "\n"
   ]
  },
  {
   "cell_type": "code",
   "execution_count": 6,
   "metadata": {
    "collapsed": false,
    "deletable": true,
    "editable": true
   },
   "outputs": [
    {
     "name": "stdout",
     "output_type": "stream",
     "text": [
      "Found  8792  vehicle images\n",
      "Found  8968  non-vehicle images\n",
      "Training set size:  4735\n",
      "Test set size:  1184\n",
      "Using: 11 orientations 16 pixels per cell and 2 cells per block\n",
      "Feature vector length: 2052\n",
      "Fitting 3 folds for each of 7 candidates, totalling 21 fits\n"
     ]
    },
    {
     "name": "stderr",
     "output_type": "stream",
     "text": [
      "[Parallel(n_jobs=1)]: Done  21 out of  21 | elapsed:  4.6min finished\n"
     ]
    },
    {
     "name": "stdout",
     "output_type": "stream",
     "text": [
      "{'C': 2}\n",
      "0.990285110876\n",
      "287.93 Seconds to train SVC...\n",
      "Test Accuracy of SVC =  0.9916\n"
     ]
    }
   ],
   "source": [
    "y_start_stop = (400, None)\n",
    "\n",
    "svc, X_scaler = train_svc(**features_params)"
   ]
  },
  {
   "cell_type": "markdown",
   "metadata": {
    "deletable": true,
    "editable": true
   },
   "source": [
    "## 6. Sub-sampling HOG"
   ]
  },
  {
   "cell_type": "code",
   "execution_count": 7,
   "metadata": {
    "collapsed": true,
    "deletable": true,
    "editable": true
   },
   "outputs": [],
   "source": [
    "# Define a single function that can extract features using hog sub-sampling and make predictions\n",
    "def find_cars(img, ystart, ystop, scale, svc, X_scaler,\n",
    "              color_space='RGB',\n",
    "              spatial_size=(32, 32),\n",
    "              hist_bins=32,\n",
    "              orient=9, pix_per_cell=8, cell_per_block=2, hog_channel=0,\n",
    "              spatial_feat=True, hist_feat=True, hog_feat=True):\n",
    "\n",
    "    img_tosearch = img[ystart:ystop,:,:]\n",
    "    ctrans_tosearch = convert_colorspace(img_tosearch, 'RGB', color_space)\n",
    "\n",
    "    if scale != 1:\n",
    "        imshape = ctrans_tosearch.shape\n",
    "        ctrans_tosearch = cv2.resize(ctrans_tosearch, (np.int(imshape[1]/scale), np.int(imshape[0]/scale)))\n",
    "        \n",
    "    ch1 = ctrans_tosearch[:,:,0]\n",
    "\n",
    "    # Define blocks and steps as above\n",
    "    nxblocks = (ch1.shape[1] // pix_per_cell) - cell_per_block + 1\n",
    "    nyblocks = (ch1.shape[0] // pix_per_cell) - cell_per_block + 1 \n",
    "    nfeat_per_block = orient*cell_per_block**2\n",
    "    \n",
    "    # 64 was the orginal sampling rate, with 8 cells and 8 pix per cell\n",
    "    window = 64\n",
    "    nblocks_per_window = (window // pix_per_cell) - cell_per_block + 1\n",
    "    cells_per_step = 2  # Instead of overlap, define how many cells to step\n",
    "    nxsteps = (nxblocks - nblocks_per_window) // cells_per_step\n",
    "    nysteps = (nyblocks - nblocks_per_window) // cells_per_step\n",
    "    \n",
    "    # Compute individual channel HOG features for the entire image\n",
    "    hog_array = [None]*4\n",
    "    if hog_feat is True and (hog_channel == 1 or hog_channel == 'ALL'):\n",
    "        hog_array[1] = get_hog_features(ch1, orient, pix_per_cell, cell_per_block, feature_vec=False)\n",
    "    if hog_feat is True and (hog_channel == 2 or hog_channel == 'ALL'):\n",
    "        ch2 = ctrans_tosearch[:,:,1]\n",
    "        hog_array[2] = get_hog_features(ch2, orient, pix_per_cell, cell_per_block, feature_vec=False)\n",
    "    if hog_feat is True and (hog_channel == 1 or hog_channel == 'ALL'):\n",
    "        ch3 = ctrans_tosearch[:,:,2]\n",
    "        hog_array[3] = get_hog_features(ch3, orient, pix_per_cell, cell_per_block, feature_vec=False)\n",
    "    \n",
    "    bboxes = []\n",
    "    \n",
    "    for xb in range(nxsteps):\n",
    "        for yb in range(nysteps):\n",
    "            ypos = yb*cells_per_step\n",
    "            xpos = xb*cells_per_step\n",
    "            \n",
    "            xleft = xpos*pix_per_cell\n",
    "            ytop = ypos*pix_per_cell\n",
    "\n",
    "            # Extract the image patch\n",
    "            subimg = cv2.resize(ctrans_tosearch[ytop:ytop+window, xleft:xleft+window], (64,64))\n",
    "\n",
    "            img_features = []\n",
    "            \n",
    "            # Get color features\n",
    "            if spatial_feat is True:\n",
    "                spatial_features = bin_spatial(subimg, size=spatial_size)\n",
    "                img_features.append(spatial_features)\n",
    "            \n",
    "            if hist_feat is True:\n",
    "                hist_features = color_hist(subimg, nbins=hist_bins)\n",
    "                img_features.append(hist_features)\n",
    "\n",
    "            # Extract HOG for this patch\n",
    "            if hog_feat is True:\n",
    "                if hog_channel == 'ALL':\n",
    "                    hog_features = []\n",
    "                    for channel in range(1,4):\n",
    "                        img_features.append(hog_array[channel][ypos:ypos+nblocks_per_window, xpos:xpos+nblocks_per_window].ravel())\n",
    "                else:\n",
    "                    img_features.append(hog_array[hog_channel][ypos:ypos+nblocks_per_window, xpos:xpos+nblocks_per_window].ravel())\n",
    "\n",
    "            # Scale features and make a prediction\n",
    "            test_features = X_scaler.transform(np.hstack(img_features).reshape(1, -1))\n",
    "            test_prediction = svc.predict(test_features)\n",
    "            \n",
    "            if test_prediction == 1:\n",
    "                xbox_left = np.int(xleft*scale)\n",
    "                ytop_draw = np.int(ytop*scale)\n",
    "                win_draw = np.int(window*scale)\n",
    "                bboxes.append([(xbox_left, ytop_draw+ystart),\n",
    "                               (xbox_left+win_draw, ytop_draw+win_draw+ystart)])\n",
    "                \n",
    "    return bboxes\n",
    "\n"
   ]
  },
  {
   "cell_type": "markdown",
   "metadata": {
    "deletable": true,
    "editable": true
   },
   "source": [
    "## 7. Heatmap and Labeling"
   ]
  },
  {
   "cell_type": "code",
   "execution_count": 8,
   "metadata": {
    "collapsed": true,
    "deletable": true,
    "editable": true
   },
   "outputs": [],
   "source": [
    "def add_heat(heatmap, bbox_list):\n",
    "    # Iterate through list of bboxes\n",
    "    for box in bbox_list:\n",
    "        # Add += 1 for all pixels inside each bbox\n",
    "        # Assuming each \"box\" takes the form ((x1, y1), (x2, y2))\n",
    "        heatmap[box[0][1]:box[1][1], box[0][0]:box[1][0]] += 1\n",
    "        \n",
    "    # Reinforce the hotspots\n",
    "    for box in bbox_list:\n",
    "        # Add += 2 for all pixels inside each bbox\n",
    "        # Assuming each \"box\" takes the form ((x1, y1), (x2, y2))\n",
    "        if np.max(heatmap[box[0][1]:box[1][1], box[0][0]:box[1][0]]) > 1:\n",
    "            heatmap[box[0][1]:box[1][1], box[0][0]:box[1][0]] += 2\n",
    "\n",
    "    # Return updated heatmap\n",
    "    return heatmap# Iterate through list of bboxes\n",
    "    \n",
    "def apply_threshold(heatmap, threshold):\n",
    "    # Zero out pixels below the threshold\n",
    "    heatmap[heatmap <= threshold] = 0\n",
    "    # Return thresholded map\n",
    "    return heatmap\n",
    "\n",
    "def draw_labeled_bboxes(img, labels):\n",
    "    # Iterate through all detected cars\n",
    "    for car_number in range(1, labels[1]+1):\n",
    "        # Find pixels with each car_number label value\n",
    "        nonzero = (labels[0] == car_number).nonzero()\n",
    "        # Identify x and y values of those pixels\n",
    "        nonzeroy = np.array(nonzero[0])\n",
    "        nonzerox = np.array(nonzero[1])\n",
    "        # Define a bounding box based on min/max x and y\n",
    "        bbox = ((np.min(nonzerox), np.min(nonzeroy)), (np.max(nonzerox), np.max(nonzeroy)))\n",
    "        # Draw the box on the image\n",
    "        cv2.rectangle(img, bbox[0], bbox[1], (0,255,0), 6)\n",
    "    # Return the image\n",
    "    return img\n",
    "\n",
    "\n",
    "\n"
   ]
  },
  {
   "cell_type": "markdown",
   "metadata": {
    "deletable": true,
    "editable": true
   },
   "source": [
    "## 8. VehicleFinder Class"
   ]
  },
  {
   "cell_type": "code",
   "execution_count": 17,
   "metadata": {
    "collapsed": true,
    "deletable": true,
    "editable": true
   },
   "outputs": [],
   "source": [
    "class VehicleFinder:\n",
    "    def __init__(self, heatmap_threshold=9, heatmap_window=4):\n",
    "        self.stats = dict()\n",
    "        \n",
    "        # Take an average of the heatmap\n",
    "        self.heatmap_threshold = heatmap_threshold\n",
    "        self.average_heatmap = None\n",
    "        self.heatmaps = collections.deque(list(), heatmap_window)\n",
    "        self.heatmap_window = heatmap_window\n",
    "        \n",
    "        self.average_heatmap = None\n",
    "    \n",
    "    def process_image(self, img):\n",
    "        \"\"\"\n",
    "        Takes in an image (8-bit colors) and returns an image.\n",
    "        \"\"\"\n",
    "        frame = np.copy(img)\n",
    "        frame = frame.astype(np.float32)/255\n",
    "\n",
    "        bboxes = []\n",
    "        bboxes.extend(find_cars(frame, 400, 650, 0.8, svc, X_scaler, **features_params))\n",
    "        bboxes.extend(find_cars(frame, 400, 720, 1.5, svc, X_scaler, **features_params))\n",
    "        bboxes.extend(find_cars(frame, 400, 720, 2.0, svc, X_scaler, **features_params))\n",
    "\n",
    "        # Initialize the image totals\n",
    "        if self.average_heatmap is None:\n",
    "            self.average_heatmap = np.zeros_like(frame[:,:,0]).astype(np.float)\n",
    "            heat = np.ones_like(frame[:,:,0]).astype(np.float)*0.3\n",
    "            for _ in range(self.heatmap_window):\n",
    "                self.average_heatmap += heat\n",
    "\n",
    "        # generate the heatmap for this image\n",
    "        heat = np.zeros_like(frame[:,:,0]).astype(np.float)\n",
    "        heat = add_heat(heat, bboxes)\n",
    "\n",
    "        if self.heatmaps.maxlen == len(self.heatmaps):\n",
    "            self.average_heatmap -= self.heatmaps[0]\n",
    "        self.average_heatmap += heat\n",
    "        self.heatmaps.append(heat)\n",
    "\n",
    "        heatmap = np.copy(self.average_heatmap)\n",
    "        heatmap = apply_threshold(heatmap, self.heatmap_threshold)    \n",
    "\n",
    "        labels = label(heatmap)\n",
    "\n",
    "        return draw_labeled_bboxes(img, labels)\n",
    "\n"
   ]
  },
  {
   "cell_type": "markdown",
   "metadata": {
    "deletable": true,
    "editable": true
   },
   "source": [
    "## 8. Video Pipeline"
   ]
  },
  {
   "cell_type": "code",
   "execution_count": 18,
   "metadata": {
    "collapsed": false,
    "deletable": true,
    "editable": true
   },
   "outputs": [
    {
     "name": "stdout",
     "output_type": "stream",
     "text": [
      "[MoviePy] >>>> Building video ./project_output.mp4\n",
      "[MoviePy] Writing video ./project_output.mp4\n"
     ]
    },
    {
     "name": "stderr",
     "output_type": "stream",
     "text": [
      "100%|█████████▉| 1260/1261 [37:19<00:01,  1.86s/it]\n"
     ]
    },
    {
     "name": "stdout",
     "output_type": "stream",
     "text": [
      "[MoviePy] Done.\n",
      "[MoviePy] >>>> Video ready: ./project_output.mp4 \n",
      "\n",
      "CPU times: user 36min 28s, sys: 52.6 s, total: 37min 21s\n",
      "Wall time: 37min 20s\n",
      "{}\n"
     ]
    }
   ],
   "source": [
    "carfinder = VehicleFinder(heatmap_window=4, heatmap_threshold=9)\n",
    "\n",
    "test_output = \"./project_output.mp4\"\n",
    "clip1 = VideoFileClip('./project_video.mp4')\n",
    "test_clip1 = clip1.fl_image(carfinder.process_image)\n",
    "%time test_clip1.write_videofile(test_output, audio=False)\n",
    "print(carfinder.stats)"
   ]
  },
  {
   "cell_type": "code",
   "execution_count": null,
   "metadata": {
    "collapsed": true,
    "deletable": true,
    "editable": true
   },
   "outputs": [],
   "source": []
  }
 ],
 "metadata": {
  "kernelspec": {
   "display_name": "Python 3",
   "language": "python",
   "name": "python3"
  },
  "language_info": {
   "codemirror_mode": {
    "name": "ipython",
    "version": 3
   },
   "file_extension": ".py",
   "mimetype": "text/x-python",
   "name": "python",
   "nbconvert_exporter": "python",
   "pygments_lexer": "ipython3",
   "version": "3.5.2"
  },
  "widgets": {
   "state": {},
   "version": "1.1.2"
  }
 },
 "nbformat": 4,
 "nbformat_minor": 2
}
